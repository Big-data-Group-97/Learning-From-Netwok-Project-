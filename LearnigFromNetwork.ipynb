{
 "cells": [
  {
   "cell_type": "code",
   "execution_count": null,
   "metadata": {},
   "outputs": [],
   "source": [
    "import networkx as nx\n",
    "import random\n",
    "import matplotlib.pyplot as plt\n",
    "import numpy as np\n",
    "from networkx.utils import powerlaw_sequence, random_sequence\n",
    "from networkx import configuration_model\n",
    "import scipy\n",
    "from matplotlib import style\n",
    "from scipy.interpolate import make_interp_spline, BSpline\n",
    "plt.style.use('ggplot')"
   ]
  },
  {
   "cell_type": "code",
   "execution_count": null,
   "metadata": {},
   "outputs": [],
   "source": [
    "def draw_graph(network, size = 2):\n",
    "    fig = plt.figure(figsize=(20, 10))\n",
    "    node_color = [float(network.degree(v)) for v in network]\n",
    "    node_weigth = [float(network.degree(v) ** size) for v in network]\n",
    "    nx.draw(network,\n",
    "            node_size = node_weigth,\n",
    "            pos = nx.spring_layout(network, (1 / len(network) ** (1/5))),\n",
    "            node_color=node_color,\n",
    "            width = 0.1,\n",
    "            with_labels=False)"
   ]
  },
  {
   "cell_type": "code",
   "execution_count": null,
   "metadata": {},
   "outputs": [],
   "source": [
    "\"\"\"scale-free network = la probabilità che un nodo abbia grado k è più o meno k^-lambda, lambda parametro\"\"\"\n",
    "\n",
    "\"\"\"Name: { \n",
    "            create_scale_free }\n",
    "   Param: { \n",
    "            num_nodes = numero dei nodi sulla rete\n",
    "            random_edge = numero di edge base che vengono aggiunti a ogni nodo\n",
    "            prob_trinage = probabiltà oltre agli edge di base di aggiungere un triangolo al nodo\n",
    "            seed = seed per avere sempre la stessa rete }\n",
    "   Return: {\n",
    "            lambda = calcolato sulla base di una media\n",
    "            graph = il network generato con la power law\n",
    "            list_deg = lista dei gradi dei nodi in ordine sequenziale }\n",
    "   \"\"\"\n",
    "def create_scale_free(num_nodes, random_edge, prob_triangle , seed):\n",
    "    \n",
    "    graph = nx.powerlaw_cluster_graph(num_nodes, random_edge, prob_triangle, seed)\n",
    "    node_degree = list(graph.degree()) #list (node, degree)\n",
    "    lamda_v = []\n",
    "    current_edges = 0\n",
    "    list_deg = []\n",
    "\n",
    "    for node, degree in node_degree:\n",
    "        list_deg.append(degree)\n",
    "\n",
    "    counts = np.bincount(list_deg)\n",
    "    mask = (counts > 0)\n",
    "\n",
    "    plt.plot(np.arange(len(counts))[mask], counts[mask] / counts.sum(), \"o\", label=\"MultiGraph\")\n",
    "    x = np.arange(1, len(counts))\n",
    "    #P(k) = x ^ - lambda\n",
    "    #log(P(k)) = - lambda * log(x)\n",
    "    #-lambda = log(P(k)) / log(x)\n",
    "    #theta_lambda = sum(y_v) / len(lamda_v)\n",
    "    #Code for this calculaation\n",
    "    for i in range(0, len(list_deg)):\n",
    "        for j in range(0, len(counts)):\n",
    "            if (j == list_deg[i]):\n",
    "                lamda_v.append(np.log2(counts[j]) / list_deg[i])\n",
    "    lamb = sum(lamda_v) / len(lamda_v)\n",
    "\n",
    "    #plt.plot(x, np.power(x, -lamb))\n",
    "    plt.xlabel(r\"Degree $k$\")\n",
    "    plt.xscale(\"log\")\n",
    "    plt.ylabel(r\"Probability $P(k)$\")\n",
    "    plt.yscale(\"log\")\n",
    "    plt.title(r\"$N = {0:d}, \\quad \\lambda = {1:.2f}$\".format(num_nodes, lamb))\n",
    "    plt.legend(loc=\"best\")\n",
    "    plt.show()\n",
    "\n",
    "    return (graph, lamb, list_deg) \n",
    "    \n",
    "network, lamb, list_deg = create_scale_free(1000, 3, 0.5, random.randint(0, 100000000000000000))\n",
    "\n"
   ]
  },
  {
   "cell_type": "code",
   "execution_count": null,
   "metadata": {},
   "outputs": [],
   "source": [
    "draw_graph(network)"
   ]
  },
  {
   "cell_type": "code",
   "execution_count": null,
   "metadata": {},
   "outputs": [],
   "source": [
    "\"\"\" \"\"\"\n",
    "def percolation_one_node_random(network):\n",
    "    \n",
    "    lenght_of_list = len(network.nodes)\n",
    "    value = random.randint(0, lenght_of_list-1)\n",
    "    nodes = list(network.nodes)\n",
    "    network.remove_node(nodes[value])\n",
    "    \n",
    "    return network\n",
    "    \n",
    "network = percolation_one_node_random(network)\n"
   ]
  },
  {
   "cell_type": "code",
   "execution_count": null,
   "metadata": {},
   "outputs": [],
   "source": [
    "\"\"\"percentuale di nodi tolti sul totale della rete\"\"\"\n",
    "\n",
    "def percolation_loop_removal(network, percentage):\n",
    "    \n",
    "    per = round(percentage * len(network.nodes))\n",
    "    f = []\n",
    "    P_0 = len(max(nx.connected_components(network), key=len)) \n",
    "    P_inf_devided_P_0 = []\n",
    "    #probabilità che un nodo all'\"epoca\" f appartenga al larger component\n",
    "    # \n",
    "\n",
    "    for i in range(0, per):\n",
    "        network = percolation_one_node_random(network)\n",
    "        f.append(i)\n",
    "        P_inf_devided_P_0.append(len(max(nx.connected_components(network))) / P_0)  \n",
    "    \n",
    "    print(f'Eliminated nodes = {per}')\n",
    "    print(f'number of conncted component = {nx.number_connected_components(network)}')\n",
    "\n",
    "    return (network,P_inf_devided_P_0, f)\n",
    "\n",
    "network, P_inf_devided_P_0, f = percolation_loop_removal(network, 0.99)\n"
   ]
  },
  {
   "cell_type": "code",
   "execution_count": null,
   "metadata": {},
   "outputs": [],
   "source": [
    "def robustness_scale_free_network_plot(network, P_inf_devided_P_0, f):\n",
    "    xnew = np.linspace(min(f), max(f), 200) \n",
    "\n",
    "    #define spline with degree k=7\n",
    "    spl = make_interp_spline(f, P_inf_devided_P_0, k=7)\n",
    "    y_smooth = spl(xnew)\n",
    "    plt.plot(f, P_inf_devided_P_0, linewidth=4)\n",
    "    #plt.plot([0.05] * len(f), P_inf_devided_P_0)\n",
    "    plt.ylabel(r\"Probability $P(f)/P(0)$\")\n",
    "    plt.xlabel(r\"f\")\n",
    "    plt.show()\n",
    "\n",
    "robustness_scale_free_network_plot(network, P_inf_devided_P_0, f)"
   ]
  },
  {
   "cell_type": "code",
   "execution_count": null,
   "metadata": {},
   "outputs": [],
   "source": [
    "\n",
    "\n"
   ]
  }
 ],
 "metadata": {
  "kernelspec": {
   "display_name": "venv",
   "language": "python",
   "name": "python3"
  },
  "language_info": {
   "codemirror_mode": {
    "name": "ipython",
    "version": 3
   },
   "file_extension": ".py",
   "mimetype": "text/x-python",
   "name": "python",
   "nbconvert_exporter": "python",
   "pygments_lexer": "ipython3",
   "version": "3.10.6"
  },
  "orig_nbformat": 4,
  "vscode": {
   "interpreter": {
    "hash": "b6c59e6f2d5706b7d3d9327f440e38666ad1a295a04ded902b3438ee67de248b"
   }
  }
 },
 "nbformat": 4,
 "nbformat_minor": 2
}
