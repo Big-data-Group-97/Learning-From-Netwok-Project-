{
 "cells": [
  {
   "cell_type": "code",
   "execution_count": 63,
   "metadata": {},
   "outputs": [],
   "source": [
    "import networkx as nx\n",
    "import random\n",
    "import matplotlib.pyplot as plt\n",
    "import numpy as np\n",
    "from networkx.utils import powerlaw_sequence, random_sequence\n",
    "from networkx import configuration_model\n",
    "import scipy.special"
   ]
  },
  {
   "cell_type": "code",
   "execution_count": 64,
   "metadata": {},
   "outputs": [],
   "source": [
    "def draw_graph(network):\n",
    "    nx.draw(network, pos=nx.spring_layout(network, 1/np.sqrt(len(network))))  \n"
   ]
  },
  {
   "cell_type": "code",
   "execution_count": 65,
   "metadata": {},
   "outputs": [
    {
     "data": {
      "image/png": "[encoded data removed]",
      "text/plain": [
       "<Figure size 432x288 with 1 Axes>"
      ]
     },
     "metadata": {
      "needs_background": "light"
     },
     "output_type": "display_data"
    },
    {
     "data": {
      "text/plain": [
       "' network = nx.gnp_random_graph(6, 0.7, seed=None, directed=False) scale_free_graph(n, alpha=0.41, beta=0.54, gamma=0.05, delta_in=0.2, delta_out=0, create_using=None, seed=None, initial_graph=None) draw_graph(network) '"
      ]
     },
     "execution_count": 65,
     "metadata": {},
     "output_type": "execute_result"
    }
   ],
   "source": [
    "\"\"\"scale-free network = la probabilità che un nodo abbia grado k è più o meno k^-lambda, lambda parametro\"\"\"\n",
    "\n",
    "\"\"\"Name: {create_scale_free}\n",
    "   Param: { num_nodes = numero dei nodi sulla rete\n",
    "            random_edge = numero di edge base che vengono aggiunti a ogni nodo\n",
    "            prob_trinage = probabiltà oltre agli edge di base di aggiungere un triangolo al nodo\n",
    "            seed = seed per avere sempre la stessa rete}\n",
    "   Return: {\n",
    "            lambda = calcolato sulla base di una media\n",
    "            graph = il network generato con la power law\n",
    "            list_deg = lista dei gradi dei nodi in ordine sequenziale\n",
    "   }\n",
    "   \"\"\"\n",
    "def create_scale_free(num_nodes, random_edge, prob_triangle , seed):\n",
    "    \n",
    "    graph = nx.powerlaw_cluster_graph(num_nodes, random_edge, prob_triangle, seed)\n",
    "    node_degree = list(graph.degree()) #list (node, degree)\n",
    "    lamda_v = []\n",
    "    current_edges = 0\n",
    "    list_deg = []\n",
    "    for node, degree in node_degree:\n",
    "        list_deg.append(degree)\n",
    "\n",
    "    counts = np.bincount(list_deg)\n",
    "    mask = (counts > 0)\n",
    "    plt.plot(np.arange(len(counts))[mask], counts[mask] / counts.sum(), \"o\", label=\"MultiGraph\")\n",
    "    x = np.arange(1, len(counts))\n",
    "\n",
    "    for i in range(0, len(list_deg)):\n",
    "        for j in range(0, len(counts)):\n",
    "            if (j == list_deg[i]):\n",
    "                lamda_v.append(np.log2(counts[j]) / list_deg[i])\n",
    "    lamb = sum(lamda_v) / len(lamda_v)\n",
    "\n",
    "    plt.plot(x, np.power(x, -lamb))\n",
    "    plt.xlabel(r\"Degree $k$\")\n",
    "    plt.xscale(\"log\")\n",
    "    plt.ylabel(r\"Probability $P(k)$\")\n",
    "    plt.yscale(\"log\")\n",
    "    plt.title(r\"$N = {0:d}, \\quad \\lambda = {1:.2f}$\".format(num_nodes, lamb))\n",
    "    plt.legend(loc=\"best\")\n",
    "    plt.show()\n",
    "\n",
    "    return (graph, lamb, list_deg) \n",
    "    \n",
    "network, lamb, list_deg = create_scale_free(5000, 3, 0.1, random.randint(0, 100000000000000000))\n",
    "\n",
    "#draw_graph(network)\n",
    "\n",
    "\"\"\" network = nx.gnp_random_graph(6, 0.7, seed=None, directed=False) scale_free_graph(n, alpha=0.41, beta=0.54, gamma=0.05, delta_in=0.2, delta_out=0, create_using=None, seed=None, initial_graph=None) draw_graph(network) \"\"\""
   ]
  },
  {
   "cell_type": "code",
   "execution_count": 66,
   "metadata": {},
   "outputs": [
    {
     "name": "stdout",
     "output_type": "stream",
     "text": [
      "|V| = 5000\n",
      "|V| = 4999\n",
      "|V| = 4998\n"
     ]
    }
   ],
   "source": [
    "\"\"\" \"\"\"\n",
    "def percolation_one_node_random(network):\n",
    "    \n",
    "    lenght_of_list = len(network.nodes)\n",
    "    print(f'|V| = {lenght_of_list}')\n",
    "    network.remove_node(random.randint(0, lenght_of_list))\n",
    "    \n",
    "    return network\n",
    "\n",
    "for _ in range(0, 3):\n",
    "    network = percolation_one_node_random(network)\n"
   ]
  },
  {
   "cell_type": "code",
   "execution_count": 67,
   "metadata": {},
   "outputs": [
    {
     "name": "stdout",
     "output_type": "stream",
     "text": [
      "Nodes to be eliminated = 150\n",
      "|V| = 4997\n",
      "|V| = 4996\n",
      "|V| = 4995\n",
      "|V| = 4994\n",
      "|V| = 4993\n",
      "|V| = 4992\n",
      "|V| = 4991\n",
      "|V| = 4990\n",
      "|V| = 4989\n",
      "|V| = 4988\n",
      "|V| = 4987\n",
      "|V| = 4986\n",
      "|V| = 4985\n",
      "|V| = 4984\n",
      "|V| = 4983\n",
      "|V| = 4982\n",
      "|V| = 4981\n",
      "|V| = 4980\n",
      "|V| = 4979\n",
      "|V| = 4978\n",
      "|V| = 4977\n",
      "|V| = 4976\n",
      "|V| = 4975\n",
      "|V| = 4974\n",
      "|V| = 4973\n",
      "|V| = 4972\n",
      "|V| = 4971\n",
      "|V| = 4970\n",
      "|V| = 4969\n",
      "|V| = 4968\n",
      "|V| = 4967\n",
      "|V| = 4966\n",
      "|V| = 4965\n",
      "|V| = 4964\n",
      "|V| = 4963\n",
      "|V| = 4962\n",
      "|V| = 4961\n",
      "|V| = 4960\n",
      "|V| = 4959\n",
      "|V| = 4958\n",
      "|V| = 4957\n",
      "|V| = 4956\n",
      "|V| = 4955\n",
      "|V| = 4954\n",
      "|V| = 4953\n",
      "|V| = 4952\n",
      "|V| = 4951\n",
      "|V| = 4950\n",
      "|V| = 4949\n",
      "|V| = 4948\n",
      "|V| = 4947\n",
      "|V| = 4946\n",
      "|V| = 4945\n",
      "|V| = 4944\n",
      "|V| = 4943\n",
      "|V| = 4942\n",
      "|V| = 4941\n",
      "|V| = 4940\n",
      "|V| = 4939\n",
      "|V| = 4938\n",
      "|V| = 4937\n",
      "|V| = 4936\n"
     ]
    },
    {
     "ename": "NetworkXError",
     "evalue": "The node 2551 is not in the graph.",
     "output_type": "error",
     "traceback": [
      "\u001b[1;31m---------------------------------------------------------------------------\u001b[0m",
      "\u001b[1;31mKeyError\u001b[0m                                  Traceback (most recent call last)",
      "\u001b[1;32m~\\AppData\\Local\\Packages\\PythonSoftwareFoundation.Python.3.9_qbz5n2kfra8p0\\LocalCache\\local-packages\\Python39\\site-packages\\networkx\\classes\\graph.py\u001b[0m in \u001b[0;36mremove_node\u001b[1;34m(self, n)\u001b[0m\n\u001b[0;32m    658\u001b[0m         \u001b[1;32mtry\u001b[0m\u001b[1;33m:\u001b[0m\u001b[1;33m\u001b[0m\u001b[1;33m\u001b[0m\u001b[0m\n\u001b[1;32m--> 659\u001b[1;33m             \u001b[0mnbrs\u001b[0m \u001b[1;33m=\u001b[0m \u001b[0mlist\u001b[0m\u001b[1;33m(\u001b[0m\u001b[0madj\u001b[0m\u001b[1;33m[\u001b[0m\u001b[0mn\u001b[0m\u001b[1;33m]\u001b[0m\u001b[1;33m)\u001b[0m  \u001b[1;31m# list handles self-loops (allows mutation)\u001b[0m\u001b[1;33m\u001b[0m\u001b[1;33m\u001b[0m\u001b[0m\n\u001b[0m\u001b[0;32m    660\u001b[0m             \u001b[1;32mdel\u001b[0m \u001b[0mself\u001b[0m\u001b[1;33m.\u001b[0m\u001b[0m_node\u001b[0m\u001b[1;33m[\u001b[0m\u001b[0mn\u001b[0m\u001b[1;33m]\u001b[0m\u001b[1;33m\u001b[0m\u001b[1;33m\u001b[0m\u001b[0m\n",
      "\u001b[1;31mKeyError\u001b[0m: 2551",
      "\nThe above exception was the direct cause of the following exception:\n",
      "\u001b[1;31mNetworkXError\u001b[0m                             Traceback (most recent call last)",
      "\u001b[1;32m<ipython-input-67-b98033e731fd>\u001b[0m in \u001b[0;36m<module>\u001b[1;34m\u001b[0m\n\u001b[0;32m     11\u001b[0m     \u001b[1;32mreturn\u001b[0m \u001b[0mnetwork\u001b[0m\u001b[1;33m\u001b[0m\u001b[1;33m\u001b[0m\u001b[0m\n\u001b[0;32m     12\u001b[0m \u001b[1;33m\u001b[0m\u001b[0m\n\u001b[1;32m---> 13\u001b[1;33m \u001b[0mnetwork\u001b[0m \u001b[1;33m=\u001b[0m \u001b[0mpercolation_loop_removal\u001b[0m\u001b[1;33m(\u001b[0m\u001b[0mnetwork\u001b[0m\u001b[1;33m,\u001b[0m \u001b[1;36m0.03\u001b[0m\u001b[1;33m)\u001b[0m\u001b[1;33m\u001b[0m\u001b[1;33m\u001b[0m\u001b[0m\n\u001b[0m",
      "\u001b[1;32m<ipython-input-67-b98033e731fd>\u001b[0m in \u001b[0;36mpercolation_loop_removal\u001b[1;34m(network, percentage)\u001b[0m\n\u001b[0;32m      7\u001b[0m \u001b[1;33m\u001b[0m\u001b[0m\n\u001b[0;32m      8\u001b[0m     \u001b[1;32mfor\u001b[0m \u001b[0mi\u001b[0m \u001b[1;32min\u001b[0m \u001b[0mrange\u001b[0m\u001b[1;33m(\u001b[0m\u001b[1;36m0\u001b[0m\u001b[1;33m,\u001b[0m \u001b[0mper\u001b[0m\u001b[1;33m)\u001b[0m\u001b[1;33m:\u001b[0m\u001b[1;33m\u001b[0m\u001b[1;33m\u001b[0m\u001b[0m\n\u001b[1;32m----> 9\u001b[1;33m         \u001b[0mnetwork\u001b[0m \u001b[1;33m=\u001b[0m \u001b[0mpercolation_one_node_random\u001b[0m\u001b[1;33m(\u001b[0m\u001b[0mnetwork\u001b[0m\u001b[1;33m)\u001b[0m\u001b[1;33m\u001b[0m\u001b[1;33m\u001b[0m\u001b[0m\n\u001b[0m\u001b[0;32m     10\u001b[0m \u001b[1;33m\u001b[0m\u001b[0m\n\u001b[0;32m     11\u001b[0m     \u001b[1;32mreturn\u001b[0m \u001b[0mnetwork\u001b[0m\u001b[1;33m\u001b[0m\u001b[1;33m\u001b[0m\u001b[0m\n",
      "\u001b[1;32m<ipython-input-66-872b1c493559>\u001b[0m in \u001b[0;36mpercolation_one_node_random\u001b[1;34m(network)\u001b[0m\n\u001b[0;32m      4\u001b[0m     \u001b[0mlenght_of_list\u001b[0m \u001b[1;33m=\u001b[0m \u001b[0mlen\u001b[0m\u001b[1;33m(\u001b[0m\u001b[0mnetwork\u001b[0m\u001b[1;33m.\u001b[0m\u001b[0mnodes\u001b[0m\u001b[1;33m)\u001b[0m\u001b[1;33m\u001b[0m\u001b[1;33m\u001b[0m\u001b[0m\n\u001b[0;32m      5\u001b[0m     \u001b[0mprint\u001b[0m\u001b[1;33m(\u001b[0m\u001b[1;34mf'|V| = {lenght_of_list}'\u001b[0m\u001b[1;33m)\u001b[0m\u001b[1;33m\u001b[0m\u001b[1;33m\u001b[0m\u001b[0m\n\u001b[1;32m----> 6\u001b[1;33m     \u001b[0mnetwork\u001b[0m\u001b[1;33m.\u001b[0m\u001b[0mremove_node\u001b[0m\u001b[1;33m(\u001b[0m\u001b[0mrandom\u001b[0m\u001b[1;33m.\u001b[0m\u001b[0mrandint\u001b[0m\u001b[1;33m(\u001b[0m\u001b[1;36m0\u001b[0m\u001b[1;33m,\u001b[0m \u001b[0mlenght_of_list\u001b[0m\u001b[1;33m)\u001b[0m\u001b[1;33m)\u001b[0m\u001b[1;33m\u001b[0m\u001b[1;33m\u001b[0m\u001b[0m\n\u001b[0m\u001b[0;32m      7\u001b[0m \u001b[1;33m\u001b[0m\u001b[0m\n\u001b[0;32m      8\u001b[0m     \u001b[1;32mreturn\u001b[0m \u001b[0mnetwork\u001b[0m\u001b[1;33m\u001b[0m\u001b[1;33m\u001b[0m\u001b[0m\n",
      "\u001b[1;32m~\\AppData\\Local\\Packages\\PythonSoftwareFoundation.Python.3.9_qbz5n2kfra8p0\\LocalCache\\local-packages\\Python39\\site-packages\\networkx\\classes\\graph.py\u001b[0m in \u001b[0;36mremove_node\u001b[1;34m(self, n)\u001b[0m\n\u001b[0;32m    660\u001b[0m             \u001b[1;32mdel\u001b[0m \u001b[0mself\u001b[0m\u001b[1;33m.\u001b[0m\u001b[0m_node\u001b[0m\u001b[1;33m[\u001b[0m\u001b[0mn\u001b[0m\u001b[1;33m]\u001b[0m\u001b[1;33m\u001b[0m\u001b[1;33m\u001b[0m\u001b[0m\n\u001b[0;32m    661\u001b[0m         \u001b[1;32mexcept\u001b[0m \u001b[0mKeyError\u001b[0m \u001b[1;32mas\u001b[0m \u001b[0merr\u001b[0m\u001b[1;33m:\u001b[0m  \u001b[1;31m# NetworkXError if n not in self\u001b[0m\u001b[1;33m\u001b[0m\u001b[1;33m\u001b[0m\u001b[0m\n\u001b[1;32m--> 662\u001b[1;33m             \u001b[1;32mraise\u001b[0m \u001b[0mNetworkXError\u001b[0m\u001b[1;33m(\u001b[0m\u001b[1;34mf\"The node {n} is not in the graph.\"\u001b[0m\u001b[1;33m)\u001b[0m \u001b[1;32mfrom\u001b[0m \u001b[0merr\u001b[0m\u001b[1;33m\u001b[0m\u001b[1;33m\u001b[0m\u001b[0m\n\u001b[0m\u001b[0;32m    663\u001b[0m         \u001b[1;32mfor\u001b[0m \u001b[0mu\u001b[0m \u001b[1;32min\u001b[0m \u001b[0mnbrs\u001b[0m\u001b[1;33m:\u001b[0m\u001b[1;33m\u001b[0m\u001b[1;33m\u001b[0m\u001b[0m\n\u001b[0;32m    664\u001b[0m             \u001b[1;32mdel\u001b[0m \u001b[0madj\u001b[0m\u001b[1;33m[\u001b[0m\u001b[0mu\u001b[0m\u001b[1;33m]\u001b[0m\u001b[1;33m[\u001b[0m\u001b[0mn\u001b[0m\u001b[1;33m]\u001b[0m  \u001b[1;31m# remove all edges n-u in graph\u001b[0m\u001b[1;33m\u001b[0m\u001b[1;33m\u001b[0m\u001b[0m\n",
      "\u001b[1;31mNetworkXError\u001b[0m: The node 2551 is not in the graph."
     ]
    }
   ],
   "source": [
    "\"\"\"percentuale di nodi tolti sul totale della rete\"\"\"\n",
    "\n",
    "def percolation_loop_removal(network, percentage):\n",
    "    \n",
    "    per = round(percentage * len(network.nodes))\n",
    "    print(f'Nodes to be eliminated = {per}')\n",
    "\n",
    "    for i in range(0, per):\n",
    "        network = percolation_one_node_random(network)\n",
    "    \n",
    "    return network\n",
    "\n",
    "network = percolation_loop_removal(network, 0.03)"
   ]
  },
  {
   "cell_type": "code",
   "execution_count": null,
   "metadata": {},
   "outputs": [],
   "source": []
  }
 ],
 "metadata": {
  "kernelspec": {
   "display_name": "Python 3",
   "language": "python",
   "name": "python3"
  },
  "language_info": {
   "codemirror_mode": {
    "name": "ipython",
    "version": 3
   },
   "file_extension": ".py",
   "mimetype": "text/x-python",
   "name": "python",
   "nbconvert_exporter": "python",
   "pygments_lexer": "ipython3",
   "version": "3.9.13"
  },
  "orig_nbformat": 4,
  "vscode": {
   "interpreter": {
    "hash": "6ce06d184d0412d45b2aab2e4a3f9fb24467268710427efea91d537247819101"
   }
  }
 },
 "nbformat": 4,
 "nbformat_minor": 2
}
