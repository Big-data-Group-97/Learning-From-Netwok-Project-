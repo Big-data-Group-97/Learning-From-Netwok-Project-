{
 "cells": [
  {
   "cell_type": "code",
   "execution_count": 168,
   "metadata": {},
   "outputs": [],
   "source": [
    "import networkx as nx\n",
    "import random\n",
    "import matplotlib.pyplot as plt\n",
    "import numpy as np\n",
    "from networkx.utils import powerlaw_sequence, random_sequence\n",
    "from networkx import configuration_model\n",
    "import scipy.special"
   ]
  },
  {
   "cell_type": "code",
   "execution_count": 169,
   "metadata": {},
   "outputs": [],
   "source": [
    "def draw_graph(network):\n",
    "    nx.draw(network, pos=nx.spring_layout(network, 1/np.sqrt(len(network))))  \n"
   ]
  },
  {
   "cell_type": "code",
   "execution_count": 170,
   "metadata": {},
   "outputs": [
    {
     "data": {
      "image/png": "[encoded data removed]",
      "text/plain": [
       "<Figure size 432x288 with 1 Axes>"
      ]
     },
     "metadata": {
      "needs_background": "light"
     },
     "output_type": "display_data"
    }
   ],
   "source": [
    "\"\"\"scale-free network = la probabilità che un nodo abbia grado k è più o meno k^-lambda, lambda parametro\"\"\"\n",
    "\n",
    "\"\"\"Name: { create_scale_free }\n",
    "   Param: { \n",
    "            num_nodes = numero dei nodi sulla rete\n",
    "            random_edge = numero di edge base che vengono aggiunti a ogni nodo\n",
    "            prob_trinage = probabiltà oltre agli edge di base di aggiungere un triangolo al nodo\n",
    "            seed = seed per avere sempre la stessa rete }\n",
    "   Return: {\n",
    "            lambda = calcolato sulla base di una media\n",
    "            graph = il network generato con la power law\n",
    "            list_deg = lista dei gradi dei nodi in ordine sequenziale }\n",
    "   \"\"\"\n",
    "def create_scale_free(num_nodes, random_edge, prob_triangle , seed):\n",
    "    \n",
    "    graph = nx.powerlaw_cluster_graph(num_nodes, random_edge, prob_triangle, seed)\n",
    "    node_degree = list(graph.degree()) #list (node, degree)\n",
    "    lamda_v = []\n",
    "    current_edges = 0\n",
    "    list_deg = []\n",
    "    for node, degree in node_degree:\n",
    "        list_deg.append(degree)\n",
    "\n",
    "    counts = np.bincount(list_deg)\n",
    "    mask = (counts > 0)\n",
    "    plt.plot(np.arange(len(counts))[mask], counts[mask] / counts.sum(), \"o\", label=\"MultiGraph\")\n",
    "    x = np.arange(1, len(counts))\n",
    "\n",
    "    for i in range(0, len(list_deg)):\n",
    "        for j in range(0, len(counts)):\n",
    "            if (j == list_deg[i]):\n",
    "                lamda_v.append(np.log2(counts[j]) / list_deg[i])\n",
    "    lamb = sum(lamda_v) / len(lamda_v)\n",
    "\n",
    "    plt.plot(x, np.power(x, -lamb))\n",
    "    plt.xlabel(r\"Degree $k$\")\n",
    "    plt.xscale(\"log\")\n",
    "    plt.ylabel(r\"Probability $P(k)$\")\n",
    "    plt.yscale(\"log\")\n",
    "    plt.title(r\"$N = {0:d}, \\quad \\lambda = {1:.2f}$\".format(num_nodes, lamb))\n",
    "    plt.legend(loc=\"best\")\n",
    "    plt.show()\n",
    "\n",
    "    return (graph, lamb, list_deg) \n",
    "    \n",
    "network, lamb, list_deg = create_scale_free(1000, 3, 0.1, random.randint(0, 100000000000000000))\n"
   ]
  },
  {
   "cell_type": "code",
   "execution_count": 171,
   "metadata": {},
   "outputs": [],
   "source": [
    "\"\"\" \"\"\"\n",
    "def percolation_one_node_random(network):\n",
    "    \n",
    "    lenght_of_list = len(network.nodes)\n",
    "    value = random.randint(0, lenght_of_list-1)\n",
    "    nodes = list(network.nodes)\n",
    "    network.remove_node(nodes[value])\n",
    "    \n",
    "    return network\n",
    "    \n",
    "network = percolation_one_node_random(network)\n"
   ]
  },
  {
   "cell_type": "code",
   "execution_count": 172,
   "metadata": {},
   "outputs": [
    {
     "name": "stdout",
     "output_type": "stream",
     "text": [
      "Eliminated nodes = 300\n"
     ]
    }
   ],
   "source": [
    "\"\"\"percentuale di nodi tolti sul totale della rete\"\"\"\n",
    "\n",
    "def percolation_loop_removal(network, percentage):\n",
    "    \n",
    "    per = round(percentage * len(network.nodes))\n",
    "    print(f'Eliminated nodes = {per}')\n",
    "\n",
    "    for i in range(0, per):\n",
    "        network = percolation_one_node_random(network)\n",
    "    return network\n",
    "\n",
    "network = percolation_loop_removal(network, 0.3)"
   ]
  },
  {
   "cell_type": "code",
   "execution_count": null,
   "metadata": {},
   "outputs": [],
   "source": []
  }
 ],
 "metadata": {
  "kernelspec": {
   "display_name": "Python 3",
   "language": "python",
   "name": "python3"
  },
  "language_info": {
   "codemirror_mode": {
    "name": "ipython",
    "version": 3
   },
   "file_extension": ".py",
   "mimetype": "text/x-python",
   "name": "python",
   "nbconvert_exporter": "python",
   "pygments_lexer": "ipython3",
   "version": "3.9.13"
  },
  "orig_nbformat": 4,
  "vscode": {
   "interpreter": {
    "hash": "6ce06d184d0412d45b2aab2e4a3f9fb24467268710427efea91d537247819101"
   }
  }
 },
 "nbformat": 4,
 "nbformat_minor": 2
}
